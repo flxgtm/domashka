import pandas as pd
df = pd.read_csv('Car details v3.csv')
data.head()
